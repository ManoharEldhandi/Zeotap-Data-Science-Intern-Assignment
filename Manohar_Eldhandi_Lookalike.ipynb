{
  "nbformat": 4,
  "nbformat_minor": 0,
  "metadata": {
    "colab": {
      "provenance": []
    },
    "kernelspec": {
      "name": "python3",
      "display_name": "Python 3"
    },
    "language_info": {
      "name": "python"
    }
  },
  "cells": [
    {
      "cell_type": "code",
      "execution_count": 8,
      "metadata": {
        "colab": {
          "base_uri": "https://localhost:8080/"
        },
        "id": "P7RgPRbpxvPQ",
        "outputId": "6c66c512-ed2d-475a-b308-c2bdeb64cccd"
      },
      "outputs": [
        {
          "output_type": "stream",
          "name": "stdout",
          "text": [
            "  CustomerID        CustomerName         Region  SignupDate\n",
            "0      C0001    Lawrence Carroll  South America  2022-07-10\n",
            "1      C0002      Elizabeth Lutz           Asia  2022-02-13\n",
            "2      C0003      Michael Rivera  South America  2024-03-07\n",
            "3      C0004  Kathleen Rodriguez  South America  2022-10-09\n",
            "4      C0005         Laura Weber           Asia  2022-08-15\n",
            "  TransactionID CustomerID ProductID      TransactionDate  Quantity  \\\n",
            "0        T00001      C0199      P067  2024-08-25 12:38:23         1   \n",
            "1        T00112      C0146      P067  2024-05-27 22:23:54         1   \n",
            "2        T00166      C0127      P067  2024-04-25 07:38:55         1   \n",
            "3        T00272      C0087      P067  2024-03-26 22:55:37         2   \n",
            "4        T00363      C0070      P067  2024-03-21 15:10:10         3   \n",
            "\n",
            "   TotalValue   Price  \n",
            "0      300.68  300.68  \n",
            "1      300.68  300.68  \n",
            "2      300.68  300.68  \n",
            "3      601.36  300.68  \n",
            "4      902.04  300.68  \n"
          ]
        }
      ],
      "source": [
        "import pandas as pd\n",
        "from sklearn.neighbors import NearestNeighbors\n",
        "\n",
        "customers = pd.read_csv('/content/drive/MyDrive/Customers.csv')\n",
        "products = pd.read_csv('/content/drive/MyDrive/Products.csv')\n",
        "transactions = pd.read_csv('/content/drive/MyDrive/Transactions.csv')\n",
        "\n",
        "\n",
        "customer_transactions = transactions.merge(customers, on='CustomerID')\n",
        "\n",
        "\n",
        "print(customers.head())\n",
        "print(transactions.head())"
      ]
    },
    {
      "cell_type": "markdown",
      "source": [
        "In this segment I created a customer profile by aggregating transaction data. This was done by grouping the transactions by CustomerID and calculating the total transaction value (TotalValue) and the total quantity of products purchased (Quantity). This helps us understand each customer’s overall spending and purchasing behavior, which are key features for identifying similar customers."
      ],
      "metadata": {
        "id": "bDOpHYJm67zn"
      }
    },
    {
      "cell_type": "code",
      "source": [
        "\n",
        "customer_profile = customer_transactions.groupby('CustomerID').agg({\n",
        "    'TotalValue': 'sum',\n",
        "    'Quantity': 'sum'\n",
        "}).reset_index()\n",
        "\n",
        "\n",
        "print(customer_profile.head())"
      ],
      "metadata": {
        "colab": {
          "base_uri": "https://localhost:8080/"
        },
        "id": "n1wvVwcb4zrP",
        "outputId": "e92bdded-3466-4797-c729-45b41026d01b"
      },
      "execution_count": 9,
      "outputs": [
        {
          "output_type": "stream",
          "name": "stdout",
          "text": [
            "  CustomerID  TotalValue  Quantity\n",
            "0      C0001     3354.52        12\n",
            "1      C0002     1862.74        10\n",
            "2      C0003     2725.38        14\n",
            "3      C0004     5354.88        23\n",
            "4      C0005     2034.24         7\n"
          ]
        }
      ]
    },
    {
      "cell_type": "markdown",
      "source": [
        "In this segment i used the NearestNeighbors model with n_neighbors=4, which allows us to find the top 3 similar customers, plus the customer itself. The model was trained using the TotalValue and Quantity features from the customer profiles. This is essential for using the Nearest Neighbors algorithm to find the most similar customers based on their spending and purchasing behaviors."
      ],
      "metadata": {
        "id": "C1ed5-3I7CD2"
      }
    },
    {
      "cell_type": "code",
      "source": [
        "\n",
        "model = NearestNeighbors(n_neighbors=4)\n",
        "model.fit(customer_profile[['TotalValue', 'Quantity']])\n",
        "\n",
        "\n",
        "lookalikes = {}\n",
        "\n",
        "\n",
        "for customer_id in customer_profile['CustomerID'].head(20):\n",
        "\n",
        "    distances, indices = model.kneighbors(customer_profile[customer_profile['CustomerID'] == customer_id][['TotalValue', 'Quantity']])\n",
        "\n",
        "    similar_customers = customer_profile.iloc[indices[0]]['CustomerID'].tolist()\n",
        "    similar_customers.remove(customer_id)\n",
        "\n",
        "    lookalikes[customer_id] = similar_customers[:3]\n",
        "print(lookalikes)"
      ],
      "metadata": {
        "colab": {
          "base_uri": "https://localhost:8080/"
        },
        "id": "X3MSCOo846a-",
        "outputId": "19059f3a-1114-49d5-b429-4b760142e3db"
      },
      "execution_count": 10,
      "outputs": [
        {
          "output_type": "stream",
          "name": "stdout",
          "text": [
            "{'C0001': ['C0181', 'C0137', 'C0152'], 'C0002': ['C0132', 'C0157', 'C0036'], 'C0003': ['C0178', 'C0038', 'C0086'], 'C0004': ['C0155', 'C0053', 'C0093'], 'C0005': ['C0073', 'C0031', 'C0159'], 'C0006': ['C0039', 'C0079', 'C0037'], 'C0007': ['C0035', 'C0146', 'C0027'], 'C0008': ['C0124', 'C0037', 'C0079'], 'C0009': ['C0020', 'C0198', 'C0110'], 'C0010': ['C0186', 'C0029', 'C0062'], 'C0011': ['C0158', 'C0139', 'C0154'], 'C0012': ['C0093', 'C0023', 'C0053'], 'C0013': ['C0045', 'C0143', 'C0068'], 'C0014': ['C0058', 'C0151', 'C0097'], 'C0015': ['C0094', 'C0043', 'C0119'], 'C0016': ['C0194', 'C0048', 'C0183'], 'C0017': ['C0200', 'C0153', 'C0018'], 'C0018': ['C0162', 'C0200', 'C0105'], 'C0019': ['C0172', 'C0061', 'C0088'], 'C0020': ['C0198', 'C0110', 'C0009']}\n"
          ]
        }
      ]
    },
    {
      "cell_type": "code",
      "source": [
        "\n",
        "lookalike_df = pd.DataFrame(lookalikes.items(), columns=['CustomerID', 'Lookalikes'])\n",
        "lookalike_df.to_csv('Lookalike.csv', index=False)\n",
        "print(lookalike_df)"
      ],
      "metadata": {
        "colab": {
          "base_uri": "https://localhost:8080/"
        },
        "id": "lRKbvi9v4_RH",
        "outputId": "0e5bce25-ccb1-49c2-9133-a4c07bf385c6"
      },
      "execution_count": 11,
      "outputs": [
        {
          "output_type": "stream",
          "name": "stdout",
          "text": [
            "   CustomerID             Lookalikes\n",
            "0       C0001  [C0181, C0137, C0152]\n",
            "1       C0002  [C0132, C0157, C0036]\n",
            "2       C0003  [C0178, C0038, C0086]\n",
            "3       C0004  [C0155, C0053, C0093]\n",
            "4       C0005  [C0073, C0031, C0159]\n",
            "5       C0006  [C0039, C0079, C0037]\n",
            "6       C0007  [C0035, C0146, C0027]\n",
            "7       C0008  [C0124, C0037, C0079]\n",
            "8       C0009  [C0020, C0198, C0110]\n",
            "9       C0010  [C0186, C0029, C0062]\n",
            "10      C0011  [C0158, C0139, C0154]\n",
            "11      C0012  [C0093, C0023, C0053]\n",
            "12      C0013  [C0045, C0143, C0068]\n",
            "13      C0014  [C0058, C0151, C0097]\n",
            "14      C0015  [C0094, C0043, C0119]\n",
            "15      C0016  [C0194, C0048, C0183]\n",
            "16      C0017  [C0200, C0153, C0018]\n",
            "17      C0018  [C0162, C0200, C0105]\n",
            "18      C0019  [C0172, C0061, C0088]\n",
            "19      C0020  [C0198, C0110, C0009]\n"
          ]
        }
      ]
    }
  ]
}